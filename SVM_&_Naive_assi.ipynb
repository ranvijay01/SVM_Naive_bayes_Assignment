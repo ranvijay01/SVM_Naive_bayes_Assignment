{
  "nbformat": 4,
  "nbformat_minor": 0,
  "metadata": {
    "colab": {
      "provenance": []
    },
    "kernelspec": {
      "name": "python3",
      "display_name": "Python 3"
    },
    "language_info": {
      "name": "python"
    }
  },
  "cells": [
    {
      "cell_type": "markdown",
      "source": [
        "# **....THEORETICAL QUESTIONS......**"
      ],
      "metadata": {
        "id": "XbZVwiwXpYnz"
      }
    },
    {
      "cell_type": "markdown",
      "source": [
        "1. What is a Support Vector Machine (SVM)?\n",
        "- Ans:- A Support Vector Machine (SVM) is a supervised learning algorithm that can be used for classification or regression tasks. It aims to find the hyperplane that best separates the data into different classes.\n"
      ],
      "metadata": {
        "id": "SULXUHOypgPD"
      }
    },
    {
      "cell_type": "markdown",
      "source": [
        "2.What is the difference between Hard Margin and Soft Margin SVM?\n",
        "- Ans:-  Hard Margin SVM requires that all data points be correctly classified and lie on the correct side of the margin. Soft Margin SVM allows for some misclassifications by introducing slack variables, making it more robust to noisy data.\n"
      ],
      "metadata": {
        "id": "Ksgndb9Hq3TI"
      }
    },
    {
      "cell_type": "markdown",
      "source": [
        "3. What is the mathematical intuition behind SVM?\n",
        "- Ans:-The mathematical intuition behind SVM is to maximize the margin between classes. This is achieved by finding the hyperplane that has the largest distance to the nearest data points of each class.\n",
        "\n"
      ],
      "metadata": {
        "id": "b5bpu5K8rCXl"
      }
    },
    {
      "cell_type": "markdown",
      "source": [
        "4. What is the role of Lagrange Multipliers in SVM?\n",
        "-  Ans:- Lagrange Multipliers are used to solve the constrained optimization problem in SVM. They help to transform the problem into a dual form, which can be more efficiently solved.\n"
      ],
      "metadata": {
        "id": "IzlxjeJbrn7p"
      }
    },
    {
      "cell_type": "markdown",
      "source": [
        "5. What are Support Vectors in SVM?\n",
        "-   Ans:- Support Vectors are the data points that lie closest to the hyperplane and define the margin. These points are critical in determining the position of the hyperplane.\n",
        "\n"
      ],
      "metadata": {
        "id": "bs_378per0-6"
      }
    },
    {
      "cell_type": "markdown",
      "source": [
        "6. What is a Support Vector Classifier (SVC)?\n",
        "- Ans:- A Support Vector Classifier (SVC) is a type of SVM used for classification tasks. It aims to find the hyperplane that best separates the classes."
      ],
      "metadata": {
        "id": "uPn2lw3SsATV"
      }
    },
    {
      "cell_type": "markdown",
      "source": [
        "7. What is a Support Vector Regressor (SVR)?\n",
        "-  Ans:- A Support Vector Regressor (SVR) is a type of SVM used for regression tasks. It aims to find the hyperplane that minimizes the error between predicted and actual values.\n",
        "\n"
      ],
      "metadata": {
        "id": "Z-j4ZR7zsONH"
      }
    },
    {
      "cell_type": "markdown",
      "source": [
        "8. What is the Kernel Trick in SVM?\n",
        "- Ans:- The Kernel Trick is a method used in SVM to handle non-linearly separable data. It maps the data into a higher-dimensional space using a kernel function, allowing for linear separation.\n"
      ],
      "metadata": {
        "id": "y0n9pGtNsXxK"
      }
    },
    {
      "cell_type": "markdown",
      "source": [
        "9. Compare Linear Kernel, Polynomial Kernel, and RBF Kernel\n",
        "- Ans:-\n",
        "- Linear Kernel: Suitable for linearly separable data.\n",
        "- Polynomial Kernel: Suitable for data with polynomial relationships.\n",
        "- RBF Kernel: Suitable for data with non-linear relationships and can handle complex datasets.\n"
      ],
      "metadata": {
        "id": "l_FsrGPqtEL3"
      }
    },
    {
      "cell_type": "markdown",
      "source": [
        "10. What is the effect of the C parameter in SVM?\n",
        "- Ans:-  The C parameter controls the trade-off between achieving a smooth decision boundary and classifying the training points correctly. A small C value prioritizes a smooth boundary, while a large C value prioritizes correct classification.\n",
        "\n"
      ],
      "metadata": {
        "id": "wqV30CdstMam"
      }
    },
    {
      "cell_type": "markdown",
      "source": [
        "11. What is the role of the Gamma parameter in RBF Kernel SVM?\n",
        "- Ans:- The Gamma parameter defines the influence of a single training example. A low Gamma value means a wider influence, while a high Gamma value means a narrower influence."
      ],
      "metadata": {
        "id": "FkrvLHG0tW7D"
      }
    },
    {
      "cell_type": "markdown",
      "source": [
        "12. What is the Naïve Bayes classifier, and why is it called \"Naïve\"?\n",
        "- Ans:- The Naive Bayes classifier is a supervised learning algorithm based on Bayes' Theorem. It's called \"Naive\" because it assumes independence between features, which is often not true in real-world data.\n"
      ],
      "metadata": {
        "id": "XN6aMT4kuMJk"
      }
    },
    {
      "cell_type": "markdown",
      "source": [
        "13. What is Bayes' Theorem?\n",
        "- Ans:- Bayes' Theorem describes the probability of an event occurring given some prior knowledge. It's calculated as P(A|B) = P(B|A) * P(A) / P(B), where P(A|B) is the posterior probability.\n"
      ],
      "metadata": {
        "id": "Ff6orlyEuNCb"
      }
    },
    {
      "cell_type": "markdown",
      "source": [
        "14. Explain the differences between Gaussian Naïve Bayes, Multinomial Naïve Bayes, and Bernoulli Naïve\n",
        "- Ans:-\n",
        "- Gaussian Naïve Bayes: Assumes features follow a Gaussian distribution, suitable for continuous data.\n",
        "- Multinomial Naïve Bayes: Suitable for discrete data, often used for text classification.\n",
        "- Bernoulli Naïve Bayes: Suitable for binary feature data.\n"
      ],
      "metadata": {
        "id": "zLUSskKguQ2s"
      }
    },
    {
      "cell_type": "markdown",
      "source": [
        "15. When should you use Gaussian Naive Bayes over other variants?\n",
        "- Ans:- Use Gaussian Naive Bayes when our data is continuous and follows a Gaussian distribution.\n"
      ],
      "metadata": {
        "id": "BWsfY30gucUF"
      }
    },
    {
      "cell_type": "markdown",
      "source": [
        "16. What are the key assumptions made by Naïve Bayes?\n",
        "- Ans:- The key assumptions are:\n",
        "\n",
        "- Independence between features\n",
        "- Equal importance of all features\n"
      ],
      "metadata": {
        "id": "NfKOMCPeuXTw"
      }
    },
    {
      "cell_type": "markdown",
      "source": [
        "17. What are the advantages and disadvantages of Naïve Bayes?\n",
        "- Ans:-\n",
        "- Advantages:\n",
        "\n",
        "  - Simple and efficient\n",
        "  - Handles high-dimensional data\n",
        "  - Fast training time\n",
        "\n",
        "- Disadvantages:\n",
        "\n",
        "  - Assumes independence between features, which is often not true\n",
        "  - Can be sensitive to noise in the data\n"
      ],
      "metadata": {
        "id": "t2FkNLpduqgk"
      }
    },
    {
      "cell_type": "markdown",
      "source": [
        "18. Why is Naïve Bayes a good choice for text classification?\n",
        "- Ans:- Naive Bayes is a good choice for text classification because it's efficient, scalable, and can handle high-dimensional data. It's also effective for spam detection and sentiment analysis.\n",
        "\n"
      ],
      "metadata": {
        "id": "YPZxZj3YuujP"
      }
    },
    {
      "cell_type": "markdown",
      "source": [
        "19. Compare SVM and Naïve Bayes for classification tasks\n",
        "- Ans:- SVM and Naïve Bayes are both popular classification algorithms. SVM is more robust and can handle non-linear data, while Naïve Bayes is simpler and more efficient.\n"
      ],
      "metadata": {
        "id": "S9KG_P4duxk8"
      }
    },
    {
      "cell_type": "markdown",
      "source": [
        "20. How does Laplace Smoothing help in Naïve Bayes?\n",
        "- Ans:- Laplace Smoothing is a technique used to handle zero-probability issues in Naive Bayes. It adds a small value to the numerator and denominator of the probability calculation, ensuring that no feature has a zero probability."
      ],
      "metadata": {
        "id": "IcyKLTyfu4Aa"
      }
    },
    {
      "cell_type": "markdown",
      "source": [
        "# **....Practical Question....**"
      ],
      "metadata": {
        "id": "OGqwsIHvwTyK"
      }
    },
    {
      "cell_type": "code",
      "source": [
        "from sklearn import datasets\n",
        "from sklearn.model_selection import train_test_split\n",
        "from sklearn.svm import SVC\n",
        "from sklearn.metrics import accuracy_score\n"
      ],
      "metadata": {
        "id": "6QkmU1P90jLF"
      },
      "execution_count": 1,
      "outputs": []
    },
    {
      "cell_type": "code",
      "source": [
        "#1\n",
        "iris = datasets.load_iris()\n",
        "X_train, X_test, y_train, y_test = train_test_split(iris.data, iris.target, test_size=0.3, random_state=42)\n",
        "\n",
        "clf = SVC()\n",
        "clf.fit(X_train, y_train)\n",
        "y_pred = clf.predict(X_test)\n",
        "\n",
        "print(\"Accuracy on Iris dataset:\", accuracy_score(y_test, y_pred))\n"
      ],
      "metadata": {
        "colab": {
          "base_uri": "https://localhost:8080/"
        },
        "id": "943dHi4l0o9p",
        "outputId": "0f757285-8d28-4797-c783-20c8ff224e35"
      },
      "execution_count": 2,
      "outputs": [
        {
          "output_type": "stream",
          "name": "stdout",
          "text": [
            "Accuracy on Iris dataset: 1.0\n"
          ]
        }
      ]
    },
    {
      "cell_type": "code",
      "source": [
        "#2\n",
        "from sklearn.datasets import load_wine\n",
        "wine = load_wine()\n",
        "X_train, X_test, y_train, y_test = train_test_split(wine.data, wine.target, test_size=0.3, random_state=42)\n",
        "\n",
        "linear_clf = SVC(kernel='linear')\n",
        "rbf_clf = SVC(kernel='rbf')\n",
        "\n",
        "linear_clf.fit(X_train, y_train)\n",
        "rbf_clf.fit(X_train, y_train)\n",
        "\n",
        "print(\"Linear Kernel Accuracy:\", accuracy_score(y_test, linear_clf.predict(X_test)))\n",
        "print(\"RBF Kernel Accuracy:\", accuracy_score(y_test, rbf_clf.predict(X_test)))\n"
      ],
      "metadata": {
        "colab": {
          "base_uri": "https://localhost:8080/"
        },
        "id": "Ndd-s4-A01Wp",
        "outputId": "dec8e040-6ab5-4ecf-da8d-bc39e76029ed"
      },
      "execution_count": 4,
      "outputs": [
        {
          "output_type": "stream",
          "name": "stdout",
          "text": [
            "Linear Kernel Accuracy: 0.9814814814814815\n",
            "RBF Kernel Accuracy: 0.7592592592592593\n"
          ]
        }
      ]
    },
    {
      "cell_type": "code",
      "source": [
        "#3\n",
        "from sklearn.datasets import fetch_california_housing\n",
        "from sklearn.model_selection import train_test_split\n",
        "from sklearn.svm import SVR\n",
        "from sklearn.metrics import mean_squared_error\n",
        "\n",
        "housing = fetch_california_housing()\n",
        "X_train, X_test, y_train, y_test = train_test_split(housing.data, housing.target, test_size=0.3, random_state=42)\n",
        "\n",
        "regressor = SVR()\n",
        "regressor.fit(X_train, y_train)\n",
        "y_pred = regressor.predict(X_test)\n",
        "\n",
        "print(\"Mean Squared Error:\", mean_squared_error(y_test, y_pred))\n"
      ],
      "metadata": {
        "colab": {
          "base_uri": "https://localhost:8080/"
        },
        "id": "LeeEkMfD1JUF",
        "outputId": "5a10f282-0d9c-43b9-999b-024a3d5dab86"
      },
      "execution_count": 5,
      "outputs": [
        {
          "output_type": "stream",
          "name": "stdout",
          "text": [
            "Mean Squared Error: 1.3489971413208723\n"
          ]
        }
      ]
    },
    {
      "cell_type": "code",
      "source": [
        "#4\n",
        "import numpy as np\n",
        "import matplotlib.pyplot as plt\n",
        "from sklearn.datasets import make_classification\n",
        "from sklearn.preprocessing import StandardScaler\n",
        "\n",
        "# Generate synthetic 2D data for visualization\n",
        "X, y = make_classification(n_features=2, n_redundant=0, n_informative=2, n_clusters_per_class=1, n_samples=100, random_state=42)\n",
        "scaler = StandardScaler()\n",
        "X = scaler.fit_transform(X)\n",
        "\n",
        "clf = SVC(kernel='poly', degree=3)\n",
        "clf.fit(X, y)\n",
        "\n",
        "# Plotting decision boundary\n",
        "xx, yy = np.meshgrid(np.linspace(X[:, 0].min() - 1, X[:, 0].max() + 1, 500),\n",
        "                     np.linspace(X[:, 1].min() - 1, X[:, 1].max() + 1, 500))\n",
        "Z = clf.predict(np.c_[xx.ravel(), yy.ravel()])\n",
        "Z = Z.reshape(xx.shape)\n",
        "\n",
        "plt.contourf(xx, yy, Z, cmap='coolwarm', alpha=0.5)\n",
        "plt.scatter(X[:, 0], X[:, 1], c=y, edgecolors='k', cmap='coolwarm')\n",
        "plt.title(\"SVM with Polynomial Kernel\")\n",
        "plt.show()\n"
      ],
      "metadata": {
        "colab": {
          "base_uri": "https://localhost:8080/",
          "height": 452
        },
        "id": "fQCztneJ1axA",
        "outputId": "22302b2f-6fca-4c48-b245-4fed733fe939"
      },
      "execution_count": 6,
      "outputs": [
        {
          "output_type": "display_data",
          "data": {
            "text/plain": [
              "<Figure size 640x480 with 1 Axes>"
            ],
            "image/png": "[encoded data removed]"
          },
          "metadata": {}
        }
      ]
    },
    {
      "cell_type": "code",
      "source": [
        "#5\n",
        "from sklearn.datasets import load_breast_cancer\n",
        "from sklearn.naive_bayes import GaussianNB\n",
        "cancer = load_breast_cancer()\n",
        "X_train, X_test, y_train, y_test = train_test_split(cancer.data, cancer.target, test_size=0.3, random_state=42)\n",
        "\n",
        "model = GaussianNB()\n",
        "model.fit(X_train, y_train)\n",
        "y_pred = model.predict(X_test)\n",
        "\n",
        "print(\"Accuracy on Breast Cancer dataset:\", accuracy_score(y_test, y_pred))\n"
      ],
      "metadata": {
        "colab": {
          "base_uri": "https://localhost:8080/"
        },
        "id": "fPABvtGO1mXW",
        "outputId": "556499a5-dd51-487e-c337-95dee28cc28b"
      },
      "execution_count": 7,
      "outputs": [
        {
          "output_type": "stream",
          "name": "stdout",
          "text": [
            "Accuracy on Breast Cancer dataset: 0.9415204678362573\n"
          ]
        }
      ]
    },
    {
      "cell_type": "code",
      "source": [
        "#6\n",
        "from sklearn.datasets import fetch_20newsgroups\n",
        "from sklearn.feature_extraction.text import TfidfVectorizer\n",
        "from sklearn.naive_bayes import MultinomialNB\n",
        "\n",
        "categories = ['alt.atheism', 'sci.space', 'comp.graphics', 'talk.politics.misc']\n",
        "newsgroups = fetch_20newsgroups(subset='all', categories=categories, remove=('headers', 'footers', 'quotes'))\n",
        "\n",
        "X_train, X_test, y_train, y_test = train_test_split(newsgroups.data, newsgroups.target, test_size=0.3, random_state=42)\n",
        "\n",
        "vectorizer = TfidfVectorizer()\n",
        "X_train_vec = vectorizer.fit_transform(X_train)\n",
        "X_test_vec = vectorizer.transform(X_test)\n",
        "\n",
        "model = MultinomialNB()\n",
        "model.fit(X_train_vec, y_train)\n",
        "y_pred = model.predict(X_test_vec)\n",
        "\n",
        "print(\"Accuracy on 20 Newsgroups:\", accuracy_score(y_test, y_pred))\n"
      ],
      "metadata": {
        "colab": {
          "base_uri": "https://localhost:8080/"
        },
        "id": "XGx4GI1b10oD",
        "outputId": "038dda09-ee7b-47ae-b9cf-de6918046375"
      },
      "execution_count": 8,
      "outputs": [
        {
          "output_type": "stream",
          "name": "stdout",
          "text": [
            "Accuracy on 20 Newsgroups: 0.8426013195098964\n"
          ]
        }
      ]
    },
    {
      "cell_type": "code",
      "source": [
        "#7\n",
        "from sklearn.preprocessing import StandardScaler\n",
        "\n",
        "X, y = make_classification(n_features=2, n_redundant=0, n_informative=2,\n",
        "                           n_clusters_per_class=1, n_samples=100, random_state=42)\n",
        "X = StandardScaler().fit_transform(X)\n",
        "\n",
        "C_values = [0.1, 1, 10]\n",
        "\n",
        "plt.figure(figsize=(15, 4))\n",
        "for i, C in enumerate(C_values):\n",
        "    clf = SVC(C=C, kernel='linear')\n",
        "    clf.fit(X, y)\n",
        "\n",
        "    plt.subplot(1, 3, i+1)\n",
        "    xx, yy = np.meshgrid(np.linspace(X[:, 0].min(), X[:, 0].max(), 500),\n",
        "                         np.linspace(X[:, 1].min(), X[:, 1].max(), 500))\n",
        "    Z = clf.predict(np.c_[xx.ravel(), yy.ravel()]).reshape(xx.shape)\n",
        "    plt.contourf(xx, yy, Z, cmap='coolwarm', alpha=0.3)\n",
        "    plt.scatter(X[:, 0], X[:, 1], c=y, cmap='coolwarm', edgecolors='k')\n",
        "    plt.title(f\"SVM with C={C}\")\n",
        "\n",
        "plt.tight_layout()\n",
        "plt.show()\n"
      ],
      "metadata": {
        "colab": {
          "base_uri": "https://localhost:8080/",
          "height": 310
        },
        "id": "LlEqaWfI2UR6",
        "outputId": "29369ad1-40f8-4607-afcc-7f0b49f0b8c7"
      },
      "execution_count": 9,
      "outputs": [
        {
          "output_type": "display_data",
          "data": {
            "text/plain": [
              "<Figure size 1500x400 with 3 Axes>"
            ],
            "image/png": "[encoded data removed]"
          },
          "metadata": {}
        }
      ]
    },
    {
      "cell_type": "code",
      "source": [
        "#8\n",
        "from sklearn.naive_bayes import BernoulliNB\n",
        "X, y = make_classification(n_samples=1000, n_features=20, n_classes=2, random_state=42)\n",
        "X_bin = (X > 0).astype(int)  # Binarize features\n",
        "\n",
        "X_train, X_test, y_train, y_test = train_test_split(X_bin, y, test_size=0.3, random_state=42)\n",
        "\n",
        "model = BernoulliNB()\n",
        "model.fit(X_train, y_train)\n",
        "y_pred = model.predict(X_test)\n",
        "\n",
        "print(\"Accuracy with BernoulliNB on binary features:\", accuracy_score(y_test, y_pred))\n"
      ],
      "metadata": {
        "colab": {
          "base_uri": "https://localhost:8080/"
        },
        "id": "5CkuCL6u2V7p",
        "outputId": "86d31f5f-65f4-4209-e7b6-81b587fd475f"
      },
      "execution_count": 10,
      "outputs": [
        {
          "output_type": "stream",
          "name": "stdout",
          "text": [
            "Accuracy with BernoulliNB on binary features: 0.7966666666666666\n"
          ]
        }
      ]
    },
    {
      "cell_type": "code",
      "source": [
        "#9\n",
        "\n",
        "from sklearn.datasets import load_iris\n",
        "\n",
        "\n",
        "data = load_iris()\n",
        "X_train, X_test, y_train, y_test = train_test_split(data.data, data.target, test_size=0.3, random_state=42)\n",
        "\n",
        "# Without scaling\n",
        "clf_unscaled = SVC()\n",
        "clf_unscaled.fit(X_train, y_train)\n",
        "acc_unscaled = accuracy_score(y_test, clf_unscaled.predict(X_test))\n",
        "\n",
        "# With scaling\n",
        "scaler = StandardScaler()\n",
        "X_train_scaled = scaler.fit_transform(X_train)\n",
        "X_test_scaled = scaler.transform(X_test)\n",
        "\n",
        "clf_scaled = SVC()\n",
        "clf_scaled.fit(X_train_scaled, y_train)\n",
        "acc_scaled = accuracy_score(y_test, clf_scaled.predict(X_test_scaled))\n",
        "\n",
        "print(\"Accuracy without scaling:\", acc_unscaled)\n",
        "print(\"Accuracy with scaling:\", acc_scaled)\n"
      ],
      "metadata": {
        "colab": {
          "base_uri": "https://localhost:8080/"
        },
        "id": "5yrYGMFj2ZOQ",
        "outputId": "e79044df-c36b-41ac-8885-a738fa1591e7"
      },
      "execution_count": 12,
      "outputs": [
        {
          "output_type": "stream",
          "name": "stdout",
          "text": [
            "Accuracy without scaling: 1.0\n",
            "Accuracy with scaling: 1.0\n"
          ]
        }
      ]
    },
    {
      "cell_type": "code",
      "source": [
        "#10\n",
        "\n",
        "X, y = make_classification(n_samples=500, n_features=5, random_state=42)\n",
        "X_train, X_test, y_train, y_test = train_test_split(X, y, test_size=0.3)\n",
        "\n",
        "# Normal GNB\n",
        "model = GaussianNB()\n",
        "model.fit(X_train, y_train)\n",
        "pred1 = model.predict(X_test)\n",
        "acc1 = accuracy_score(y_test, pred1)\n",
        "\n",
        "# Simulated Laplace smoothing: add small value to variance\n",
        "model_smooth = GaussianNB(var_smoothing=1e-2)\n",
        "model_smooth.fit(X_train, y_train)\n",
        "pred2 = model_smooth.predict(X_test)\n",
        "acc2 = accuracy_score(y_test, pred2)\n",
        "\n",
        "print(\"Accuracy without smoothing:\", acc1)\n",
        "print(\"Accuracy with smoothing:\", acc2)\n"
      ],
      "metadata": {
        "colab": {
          "base_uri": "https://localhost:8080/"
        },
        "id": "BEVPpQkL2fim",
        "outputId": "9ca3b150-4b2e-4ba1-a064-6eeb4de06f13"
      },
      "execution_count": 13,
      "outputs": [
        {
          "output_type": "stream",
          "name": "stdout",
          "text": [
            "Accuracy without smoothing: 0.8733333333333333\n",
            "Accuracy with smoothing: 0.88\n"
          ]
        }
      ]
    },
    {
      "cell_type": "code",
      "source": [
        "#11\n",
        "from sklearn.model_selection import GridSearchCV, train_test_split\n",
        "wine = load_wine()\n",
        "X_train, X_test, y_train, y_test = train_test_split(wine.data, wine.target, test_size=0.3, random_state=42)\n",
        "\n",
        "param_grid = {\n",
        "    'C': [0.1, 1, 10],\n",
        "    'gamma': ['scale', 0.01, 1],\n",
        "    'kernel': ['linear', 'rbf']\n",
        "}\n",
        "\n",
        "grid = GridSearchCV(SVC(), param_grid, cv=3)\n",
        "grid.fit(X_train, y_train)\n",
        "\n",
        "print(\"Best parameters:\", grid.best_params_)\n",
        "print(\"Best cross-validation score:\", grid.best_score_)\n",
        "\n",
        "y_pred = grid.predict(X_test)\n",
        "print(\"Test accuracy with best model:\", accuracy_score(y_test, y_pred))\n"
      ],
      "metadata": {
        "colab": {
          "base_uri": "https://localhost:8080/"
        },
        "id": "VmkTEppW2jEL",
        "outputId": "cf70ab47-4844-48d2-cb39-b575f6a11607"
      },
      "execution_count": 15,
      "outputs": [
        {
          "output_type": "stream",
          "name": "stdout",
          "text": [
            "Best parameters: {'C': 0.1, 'gamma': 'scale', 'kernel': 'linear'}\n",
            "Best cross-validation score: 0.9194734804490903\n",
            "Test accuracy with best model: 1.0\n"
          ]
        }
      ]
    },
    {
      "cell_type": "code",
      "source": [
        "#12\n",
        "from sklearn.metrics import accuracy_score, classification_report\n",
        "\n",
        "X, y = make_classification(n_samples=1000, n_classes=2, weights=[0.9, 0.1], flip_y=0, random_state=42)\n",
        "X_train, X_test, y_train, y_test = train_test_split(X, y, test_size=0.3)\n",
        "\n",
        "# Without class weight\n",
        "clf1 = SVC()\n",
        "clf1.fit(X_train, y_train)\n",
        "print(\"Without class_weight:\")\n",
        "print(classification_report(y_test, clf1.predict(X_test)))\n",
        "\n",
        "# With class weight\n",
        "clf2 = SVC(class_weight='balanced')\n",
        "clf2.fit(X_train, y_train)\n",
        "print(\"With class_weight='balanced':\")\n",
        "print(classification_report(y_test, clf2.predict(X_test)))\n"
      ],
      "metadata": {
        "colab": {
          "base_uri": "https://localhost:8080/"
        },
        "id": "x2OsRK8M2kZw",
        "outputId": "e73225df-aa8f-4b32-c56c-a46bbcd7cac4"
      },
      "execution_count": 17,
      "outputs": [
        {
          "output_type": "stream",
          "name": "stdout",
          "text": [
            "Without class_weight:\n",
            "              precision    recall  f1-score   support\n",
            "\n",
            "           0       0.95      0.99      0.97       273\n",
            "           1       0.82      0.52      0.64        27\n",
            "\n",
            "    accuracy                           0.95       300\n",
            "   macro avg       0.89      0.75      0.80       300\n",
            "weighted avg       0.94      0.95      0.94       300\n",
            "\n",
            "With class_weight='balanced':\n",
            "              precision    recall  f1-score   support\n",
            "\n",
            "           0       0.98      0.94      0.96       273\n",
            "           1       0.58      0.81      0.68        27\n",
            "\n",
            "    accuracy                           0.93       300\n",
            "   macro avg       0.78      0.88      0.82       300\n",
            "weighted avg       0.94      0.93      0.94       300\n",
            "\n"
          ]
        }
      ]
    },
    {
      "cell_type": "code",
      "source": [
        "#13\n",
        "from sklearn.model_selection import train_test_split\n",
        "from sklearn.feature_extraction.text import CountVectorizer\n",
        "from sklearn.naive_bayes import MultinomialNB\n",
        "from sklearn.metrics import classification_report\n",
        "import pandas as pd\n",
        "\n",
        "# Load a sample spam dataset (e.g., SMS Spam Collection)\n",
        "url = \"https://raw.githubusercontent.com/justmarkham/pycon-2016-tutorial/master/data/sms.tsv\"\n",
        "df = pd.read_csv(url, sep='\\t', names=['label', 'message'])\n",
        "\n",
        "X = df['message']\n",
        "y = df['label'].map({'ham': 0, 'spam': 1})\n",
        "\n",
        "X_train, X_test, y_train, y_test = train_test_split(X, y, test_size=0.3, random_state=42)\n",
        "vectorizer = CountVectorizer()\n",
        "X_train_vec = vectorizer.fit_transform(X_train)\n",
        "X_test_vec = vectorizer.transform(X_test)\n",
        "\n",
        "model = MultinomialNB()\n",
        "model.fit(X_train_vec, y_train)\n",
        "y_pred = model.predict(X_test_vec)\n",
        "\n",
        "print(classification_report(y_test, y_pred))\n"
      ],
      "metadata": {
        "colab": {
          "base_uri": "https://localhost:8080/"
        },
        "id": "2Q1YXKI34Y0K",
        "outputId": "a1063838-431d-4897-a969-49c38948b670"
      },
      "execution_count": 18,
      "outputs": [
        {
          "output_type": "stream",
          "name": "stdout",
          "text": [
            "              precision    recall  f1-score   support\n",
            "\n",
            "           0       0.99      1.00      0.99      1448\n",
            "           1       0.98      0.95      0.96       224\n",
            "\n",
            "    accuracy                           0.99      1672\n",
            "   macro avg       0.99      0.97      0.98      1672\n",
            "weighted avg       0.99      0.99      0.99      1672\n",
            "\n"
          ]
        }
      ]
    },
    {
      "cell_type": "code",
      "source": [
        "#14\n",
        "\n",
        "\n",
        "X, y = load_iris(return_X_y=True)\n",
        "X_train, X_test, y_train, y_test = train_test_split(X, y, random_state=42)\n",
        "\n",
        "svm = SVC()\n",
        "nb = GaussianNB()\n",
        "\n",
        "svm.fit(X_train, y_train)\n",
        "nb.fit(X_train, y_train)\n",
        "\n",
        "print(\"SVM Accuracy:\", accuracy_score(y_test, svm.predict(X_test)))\n",
        "print(\"Naïve Bayes Accuracy:\", accuracy_score(y_test, nb.predict(X_test)))\n"
      ],
      "metadata": {
        "colab": {
          "base_uri": "https://localhost:8080/"
        },
        "id": "_Tp47rLL4frm",
        "outputId": "2bbe33b0-b088-4aca-cf22-b0d5248a653b"
      },
      "execution_count": 19,
      "outputs": [
        {
          "output_type": "stream",
          "name": "stdout",
          "text": [
            "SVM Accuracy: 1.0\n",
            "Naïve Bayes Accuracy: 1.0\n"
          ]
        }
      ]
    },
    {
      "cell_type": "code",
      "source": [
        "#15\n",
        "from sklearn.datasets import load_breast_cancer\n",
        "from sklearn.feature_selection import SelectKBest, chi2\n",
        "data = load_breast_cancer()\n",
        "X_train, X_test, y_train, y_test = train_test_split(data.data, data.target, random_state=42)\n",
        "\n",
        "# Without feature selection\n",
        "nb = GaussianNB()\n",
        "nb.fit(X_train, y_train)\n",
        "acc_full = accuracy_score(y_test, nb.predict(X_test))\n",
        "\n",
        "# With feature selection\n",
        "selector = SelectKBest(chi2, k=10)\n",
        "X_train_sel = selector.fit_transform(X_train, y_train)\n",
        "X_test_sel = selector.transform(X_test)\n",
        "\n",
        "nb.fit(X_train_sel, y_train)\n",
        "acc_sel = accuracy_score(y_test, nb.predict(X_test_sel))\n",
        "\n",
        "print(\"Accuracy without feature selection:\", acc_full)\n",
        "print(\"Accuracy with feature selection:\", acc_sel)\n"
      ],
      "metadata": {
        "colab": {
          "base_uri": "https://localhost:8080/"
        },
        "id": "tjDCp8JE4kI1",
        "outputId": "3531925e-6614-48d6-b3c3-c895b0b3b5fd"
      },
      "execution_count": 20,
      "outputs": [
        {
          "output_type": "stream",
          "name": "stdout",
          "text": [
            "Accuracy without feature selection: 0.958041958041958\n",
            "Accuracy with feature selection: 0.958041958041958\n"
          ]
        }
      ]
    },
    {
      "cell_type": "code",
      "source": [
        "#16\n",
        "from sklearn.multiclass import OneVsRestClassifier, OneVsOneClassifier\n",
        "\n",
        "X, y = load_wine(return_X_y=True)\n",
        "X_train, X_test, y_train, y_test = train_test_split(X, y, random_state=42)\n",
        "\n",
        "ovr = OneVsRestClassifier(SVC())\n",
        "ovo = OneVsOneClassifier(SVC())\n",
        "\n",
        "ovr.fit(X_train, y_train)\n",
        "ovo.fit(X_train, y_train)\n",
        "\n",
        "print(\"OvR Accuracy:\", accuracy_score(y_test, ovr.predict(X_test)))\n",
        "print(\"OvO Accuracy:\", accuracy_score(y_test, ovo.predict(X_test)))\n"
      ],
      "metadata": {
        "colab": {
          "base_uri": "https://localhost:8080/"
        },
        "id": "6qlfCqNJ4mzW",
        "outputId": "2492ab2c-eb17-4cde-cb59-14289f088e8f"
      },
      "execution_count": 21,
      "outputs": [
        {
          "output_type": "stream",
          "name": "stdout",
          "text": [
            "OvR Accuracy: 0.7111111111111111\n",
            "OvO Accuracy: 0.7777777777777778\n"
          ]
        }
      ]
    },
    {
      "cell_type": "code",
      "source": [
        "#17\n",
        "X, y = load_breast_cancer(return_X_y=True)\n",
        "X_train, X_test, y_train, y_test = train_test_split(X, y, random_state=42)\n",
        "\n",
        "kernels = ['linear', 'poly', 'rbf']\n",
        "for kernel in kernels:\n",
        "    clf = SVC(kernel=kernel)\n",
        "    clf.fit(X_train, y_train)\n",
        "    acc = accuracy_score(y_test, clf.predict(X_test))\n",
        "    print(f\"{kernel.capitalize()} Kernel Accuracy:\", acc)\n"
      ],
      "metadata": {
        "colab": {
          "base_uri": "https://localhost:8080/"
        },
        "id": "Hzpt6PnO4qQq",
        "outputId": "99a2d5d5-8cb5-4ac4-ff93-27d2163aee86"
      },
      "execution_count": 22,
      "outputs": [
        {
          "output_type": "stream",
          "name": "stdout",
          "text": [
            "Linear Kernel Accuracy: 0.958041958041958\n",
            "Poly Kernel Accuracy: 0.9440559440559441\n",
            "Rbf Kernel Accuracy: 0.951048951048951\n"
          ]
        }
      ]
    },
    {
      "cell_type": "code",
      "source": [
        "#18\n",
        "from sklearn.datasets import load_wine\n",
        "from sklearn.model_selection import StratifiedKFold, cross_val_score\n",
        "\n",
        "\n",
        "X, y = load_wine(return_X_y=True)\n",
        "clf = SVC()\n",
        "\n",
        "skf = StratifiedKFold(n_splits=5, shuffle=True, random_state=42)\n",
        "scores = cross_val_score(clf, X, y, cv=skf)\n",
        "\n",
        "print(\"Cross-Validation Scores:\", scores)\n",
        "print(\"Average Accuracy:\", np.mean(scores))\n"
      ],
      "metadata": {
        "colab": {
          "base_uri": "https://localhost:8080/"
        },
        "id": "cIiword94uuL",
        "outputId": "ecb299f7-49e6-41c2-9d26-df4f7ac6dcfd"
      },
      "execution_count": 27,
      "outputs": [
        {
          "output_type": "stream",
          "name": "stdout",
          "text": [
            "Cross-Validation Scores: [0.63888889 0.69444444 0.63888889 0.65714286 0.74285714]\n",
            "Average Accuracy: 0.6744444444444444\n"
          ]
        }
      ]
    },
    {
      "cell_type": "code",
      "source": [
        "#19\n",
        "\n",
        "X, y = load_iris(return_X_y=True)\n",
        "X_train, X_test, y_train, y_test = train_test_split(X, y, random_state=42)\n",
        "\n",
        "# Uniform prior\n",
        "clf1 = GaussianNB(priors=[1/3, 1/3, 1/3])\n",
        "clf1.fit(X_train, y_train)\n",
        "acc1 = accuracy_score(y_test, clf1.predict(X_test))\n",
        "\n",
        "# Custom prior (favoring class 0)\n",
        "clf2 = GaussianNB(priors=[0.7, 0.2, 0.1])\n",
        "clf2.fit(X_train, y_train)\n",
        "acc2 = accuracy_score(y_test, clf2.predict(X_test))\n",
        "\n",
        "print(\"Accuracy with uniform prior:\", acc1)\n",
        "print(\"Accuracy with custom prior:\", acc2)\n"
      ],
      "metadata": {
        "colab": {
          "base_uri": "https://localhost:8080/"
        },
        "id": "jyM9izwX4xyB",
        "outputId": "7d051963-6d89-463a-98e0-b7c89ce11939"
      },
      "execution_count": 28,
      "outputs": [
        {
          "output_type": "stream",
          "name": "stdout",
          "text": [
            "Accuracy with uniform prior: 1.0\n",
            "Accuracy with custom prior: 1.0\n"
          ]
        }
      ]
    },
    {
      "cell_type": "code",
      "source": [
        "#20\n",
        "\n",
        "from sklearn.feature_selection import RFE\n",
        "\n",
        "X, y = load_breast_cancer(return_X_y=True)\n",
        "X_train, X_test, y_train, y_test = train_test_split(X, y, random_state=42)\n",
        "\n",
        "# Baseline model\n",
        "clf = SVC()\n",
        "clf.fit(X_train, y_train)\n",
        "acc_base = accuracy_score(y_test, clf.predict(X_test))\n",
        "\n",
        "# RFE with 10 features\n",
        "rfe = RFE(estimator=SVC(kernel=\"linear\"), n_features_to_select=10)\n",
        "X_train_rfe = rfe.fit_transform(X_train, y_train)\n",
        "X_test_rfe = rfe.transform(X_test)\n",
        "\n",
        "clf.fit(X_train_rfe, y_train)\n",
        "acc_rfe = accuracy_score(y_test, clf.predict(X_test_rfe))\n",
        "\n",
        "print(\"Accuracy without RFE:\", acc_base)\n",
        "print(\"Accuracy with RFE:\", acc_rfe)\n"
      ],
      "metadata": {
        "colab": {
          "base_uri": "https://localhost:8080/"
        },
        "id": "sJBfCq6o40l-",
        "outputId": "91b0f83b-4cc4-40bb-cfad-9453a139ed0a"
      },
      "execution_count": 29,
      "outputs": [
        {
          "output_type": "stream",
          "name": "stdout",
          "text": [
            "Accuracy without RFE: 0.951048951048951\n",
            "Accuracy with RFE: 0.958041958041958\n"
          ]
        }
      ]
    },
    {
      "cell_type": "code",
      "source": [
        "#21\n",
        "\n",
        "# Load data\n",
        "iris = datasets.load_iris()\n",
        "X, y = iris.data, iris.target\n",
        "\n",
        "# Train-test split\n",
        "X_train, X_test, y_train, y_test = train_test_split(X, y, test_size=0.3, random_state=42)\n",
        "\n",
        "# Train SVM\n",
        "model = SVC()\n",
        "model.fit(X_train, y_train)\n",
        "\n",
        "# Predict and evaluate\n",
        "y_pred = model.predict(X_test)\n",
        "print(classification_report(y_test, y_pred))\n"
      ],
      "metadata": {
        "colab": {
          "base_uri": "https://localhost:8080/"
        },
        "id": "vodmnGzq6kuZ",
        "outputId": "ec819c83-551a-42e7-cb6a-6ddc14b9e4e3"
      },
      "execution_count": 30,
      "outputs": [
        {
          "output_type": "stream",
          "name": "stdout",
          "text": [
            "              precision    recall  f1-score   support\n",
            "\n",
            "           0       1.00      1.00      1.00        19\n",
            "           1       1.00      1.00      1.00        13\n",
            "           2       1.00      1.00      1.00        13\n",
            "\n",
            "    accuracy                           1.00        45\n",
            "   macro avg       1.00      1.00      1.00        45\n",
            "weighted avg       1.00      1.00      1.00        45\n",
            "\n"
          ]
        }
      ]
    },
    {
      "cell_type": "code",
      "source": [
        "#22\n",
        "\n",
        "from sklearn.metrics import log_loss\n",
        "# Load data\n",
        "iris = datasets.load_iris()\n",
        "X, y = iris.data, iris.target\n",
        "\n",
        "# Train-test split\n",
        "X_train, X_test, y_train, y_test = train_test_split(X, y, test_size=0.3, random_state=42)\n",
        "\n",
        "# Train model\n",
        "model = GaussianNB()\n",
        "model.fit(X_train, y_train)\n",
        "\n",
        "# Predict probabilities\n",
        "y_proba = model.predict_proba(X_test)\n",
        "\n",
        "# Log loss\n",
        "loss = log_loss(y_test, y_proba)\n",
        "print(\"Log Loss (Cross-Entropy):\", loss)\n"
      ],
      "metadata": {
        "colab": {
          "base_uri": "https://localhost:8080/"
        },
        "id": "U14vngwF6qYD",
        "outputId": "935900ad-2c75-4eb2-8bbb-f6b24014381b"
      },
      "execution_count": 31,
      "outputs": [
        {
          "output_type": "stream",
          "name": "stdout",
          "text": [
            "Log Loss (Cross-Entropy): 0.04896447467183247\n"
          ]
        }
      ]
    },
    {
      "cell_type": "code",
      "source": [
        "#23\n",
        "import seaborn as sns\n",
        "import matplotlib.pyplot as plt\n",
        "from sklearn.metrics import confusion_matrix\n",
        "\n",
        "# Load data\n",
        "iris = datasets.load_iris()\n",
        "X, y = iris.data, iris.target\n",
        "\n",
        "# Train-test split\n",
        "X_train, X_test, y_train, y_test = train_test_split(X, y, test_size=0.3, random_state=42)\n",
        "\n",
        "# Train model\n",
        "model = SVC()\n",
        "model.fit(X_train, y_train)\n",
        "y_pred = model.predict(X_test)\n",
        "\n",
        "# Confusion matrix\n",
        "cm = confusion_matrix(y_test, y_pred)\n",
        "sns.heatmap(cm, annot=True, cmap='Blues', fmt='d')\n",
        "plt.title(\"SVM Confusion Matrix\")\n",
        "plt.xlabel(\"Predicted\")\n",
        "plt.ylabel(\"Actual\")\n",
        "plt.show()\n",
        "\n",
        "# Load data\n",
        "iris = datasets.load_iris()\n",
        "X, y = iris.data, iris.target\n",
        "\n",
        "# Train-test split\n",
        "X_train, X_test, y_train, y_test = train_test_split(X, y, test_size=0.3, random_state=42)\n",
        "\n",
        "# Train model\n",
        "model = SVC()\n",
        "model.fit(X_train, y_train)\n",
        "y_pred = model.predict(X_test)\n",
        "\n",
        "# Confusion matrix\n",
        "cm = confusion_matrix(y_test, y_pred)\n",
        "sns.heatmap(cm, annot=True, cmap='Blues', fmt='d')\n",
        "plt.title(\"SVM Confusion Matrix\")\n",
        "plt.xlabel(\"Predicted\")\n",
        "plt.ylabel(\"Actual\")\n",
        "plt.show()\n",
        "\n"
      ],
      "metadata": {
        "colab": {
          "base_uri": "https://localhost:8080/",
          "height": 927
        },
        "id": "NE7TJlmh60L_",
        "outputId": "94fcf696-a054-4823-d025-4a386299cb77"
      },
      "execution_count": 34,
      "outputs": [
        {
          "output_type": "display_data",
          "data": {
            "text/plain": [
              "<Figure size 640x480 with 2 Axes>"
            ],
            "image/png": "[encoded data removed]"
          },
          "metadata": {}
        },
        {
          "output_type": "display_data",
          "data": {
            "text/plain": [
              "<Figure size 640x480 with 2 Axes>"
            ],
            "image/png": "[encoded data removed]"
          },
          "metadata": {}
        }
      ]
    },
    {
      "cell_type": "code",
      "source": [
        "#24\n",
        "from sklearn.svm import SVR\n",
        "from sklearn.datasets import fetch_california_housing\n",
        "from sklearn.model_selection import train_test_split\n",
        "from sklearn.metrics import mean_absolute_error\n",
        "\n",
        "# Load data\n",
        "data = fetch_california_housing()\n",
        "X, y = data.data, data.target\n",
        "\n",
        "# Train-test split\n",
        "X_train, X_test, y_train, y_test = train_test_split(X, y, test_size=0.3, random_state=42)\n",
        "\n",
        "# Train SVR\n",
        "model = SVR()\n",
        "model.fit(X_train, y_train)\n",
        "\n",
        "# Predict and evaluate\n",
        "y_pred = model.predict(X_test)\n",
        "mae = mean_absolute_error(y_test, y_pred)\n",
        "print(\"Mean Absolute Error (MAE):\", mae)\n",
        "\n"
      ],
      "metadata": {
        "colab": {
          "base_uri": "https://localhost:8080/"
        },
        "id": "PfRoD9nb61no",
        "outputId": "2d98a84d-ebee-409a-9d3e-c7cfd8b8e80a"
      },
      "execution_count": 36,
      "outputs": [
        {
          "output_type": "stream",
          "name": "stdout",
          "text": [
            "Mean Absolute Error (MAE): 0.8664984635504496\n"
          ]
        }
      ]
    },
    {
      "cell_type": "code",
      "source": [
        "#25\n",
        "from sklearn.naive_bayes import GaussianNB\n",
        "from sklearn.datasets import load_iris\n",
        "from sklearn.model_selection import train_test_split\n",
        "from sklearn.preprocessing import label_binarize\n",
        "from sklearn.metrics import roc_auc_score\n",
        "\n",
        "# Load data\n",
        "iris = load_iris()\n",
        "X, y = iris.data, iris.target\n",
        "\n",
        "# Binarize labels for ROC-AUC evaluation only\n",
        "y_bin = label_binarize(y, classes=[0, 1, 2])\n",
        "\n",
        "# Train-test split (use original y here)\n",
        "X_train, X_test, y_train, y_test = train_test_split(X, y, test_size=0.3, random_state=42)\n",
        "\n",
        "# Binarized test labels for ROC-AUC calculation\n",
        "y_test_bin = label_binarize(y_test, classes=[0, 1, 2])\n",
        "\n",
        "# Train model\n",
        "model = GaussianNB()\n",
        "model.fit(X_train, y_train)\n",
        "\n",
        "# Predict probabilities\n",
        "y_score = model.predict_proba(X_test)\n",
        "\n",
        "# ROC-AUC score (macro average)\n",
        "auc = roc_auc_score(y_test_bin, y_score, multi_class='ovr', average='macro')\n",
        "print(\"ROC-AUC Score (macro):\", auc)\n"
      ],
      "metadata": {
        "colab": {
          "base_uri": "https://localhost:8080/"
        },
        "id": "LrTcrg6_8rir",
        "outputId": "cdd4947c-d96b-474a-fec8-957270f2bb14"
      },
      "execution_count": 43,
      "outputs": [
        {
          "output_type": "stream",
          "name": "stdout",
          "text": [
            "ROC-AUC Score (macro): 1.0\n"
          ]
        }
      ]
    },
    {
      "cell_type": "code",
      "source": [
        "#26\n",
        "import matplotlib.pyplot as plt\n",
        "from sklearn.datasets import load_iris\n",
        "from sklearn.svm import SVC\n",
        "from sklearn.model_selection import train_test_split\n",
        "from sklearn.preprocessing import label_binarize\n",
        "from sklearn.metrics import precision_recall_curve, average_precision_score\n",
        "import numpy as np\n",
        "\n",
        "# Load dataset\n",
        "iris = load_iris()\n",
        "X, y = iris.data, iris.target\n",
        "n_classes = len(np.unique(y))\n",
        "\n",
        "# Binarize labels for evaluation only\n",
        "y_bin = label_binarize(y, classes=[0, 1, 2])\n",
        "\n",
        "# Split data (use original y, not binarized)\n",
        "X_train, X_test, y_train, y_test = train_test_split(X, y, test_size=0.3, random_state=42)\n",
        "\n",
        "# Train SVM with probability estimates\n",
        "model = SVC(probability=True)\n",
        "model.fit(X_train, y_train)\n",
        "\n",
        "# Predict probabilities\n",
        "y_score = model.predict_proba(X_test)\n",
        "\n",
        "# Binarize y_test for PR curve\n",
        "y_test_bin = label_binarize(y_test, classes=[0, 1, 2])\n",
        "\n",
        "# Plot Precision-Recall curve\n",
        "for i in range(n_classes):\n",
        "    precision, recall, _ = precision_recall_curve(y_test_bin[:, i], y_score[:, i])\n",
        "    ap = average_precision_score(y_test_bin[:, i], y_score[:, i])\n",
        "    plt.plot(recall, precision, label=f'Class {i} (AP={ap:.2f})')\n",
        "\n",
        "plt.xlabel(\"Recall\")\n",
        "plt.ylabel(\"Precision\")\n",
        "plt.title(\"Precision-Recall Curve\")\n",
        "plt.legend()\n",
        "plt.grid(True)\n",
        "plt.show()\n"
      ],
      "metadata": {
        "colab": {
          "base_uri": "https://localhost:8080/",
          "height": 472
        },
        "id": "jrDoj9B68h4C",
        "outputId": "4b339389-6cbb-4210-c58f-8fd68b5603d6"
      },
      "execution_count": 42,
      "outputs": [
        {
          "output_type": "display_data",
          "data": {
            "text/plain": [
              "<Figure size 640x480 with 1 Axes>"
            ],
            "image/png": "[encoded data removed]"
          },
          "metadata": {}
        }
      ]
    }
  ]
}